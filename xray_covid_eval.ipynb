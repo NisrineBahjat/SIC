{
  "nbformat": 4,
  "nbformat_minor": 0,
  "metadata": {
    "colab": {
      "name": "xray_covid_eval.ipynb",
      "provenance": [],
      "authorship_tag": "ABX9TyOLR/ZGQOj3ThcKTd308hLF",
      "include_colab_link": true
    },
    "kernelspec": {
      "name": "python3",
      "display_name": "Python 3"
    }
  },
  "cells": [
    {
      "cell_type": "markdown",
      "metadata": {
        "id": "view-in-github",
        "colab_type": "text"
      },
      "source": [
        "<a href=\"https://colab.research.google.com/github/NisrineBahjat/SIC/blob/master/xray_covid_eval.ipynb\" target=\"_parent\"><img src=\"https://colab.research.google.com/assets/colab-badge.svg\" alt=\"Open In Colab\"/></a>"
      ]
    },
    {
      "cell_type": "code",
      "metadata": {
        "id": "1Nc6Gttun_vN"
      },
      "source": [
        "# my first line : hello."
      ],
      "execution_count": null,
      "outputs": []
    }
  ]
}